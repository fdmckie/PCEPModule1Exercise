{
 "cells": [
  {
   "cell_type": "markdown",
   "metadata": {},
   "source": [
    "## Questions"
   ]
  },
  {
   "cell_type": "markdown",
   "metadata": {},
   "source": [
    "1. What is a hardware?"
   ]
  },
  {
   "cell_type": "markdown",
   "metadata": {},
   "source": [
    "Hardware the physical elements that make up a computer or electronic system and everything else involved that is physically tangible (Google)"
   ]
  },
  {
   "cell_type": "markdown",
   "metadata": {},
   "source": [
    "2. What is a software?"
   ]
  },
  {
   "cell_type": "markdown",
   "metadata": {},
   "source": [
    "Software is a set of instructions, data or programs used to operate computers and execute specific tasks (Google)"
   ]
  },
  {
   "cell_type": "markdown",
   "metadata": {},
   "source": [
    "3. Convert 10011001 to a decimal number"
   ]
  },
  {
   "cell_type": "markdown",
   "metadata": {},
   "source": [
    "(using Python coding/syntax to represent exponents and multiplication)\n",
    "\n",
    "(2 ** 7) * 1 = 128,\n",
    "(2 ** 6) * 0 = 0,\n",
    "(2 ** 5) * 0 = 0,\n",
    "(2 ** 4) * 1 = 16,\n",
    "(2 ** 3) * 1 = 8,\n",
    "(2 ** 2) * 0 = 0,\n",
    "(2 ** 1) * 0 = 0,\n",
    "(2 ** 0) * 1 = 1\n",
    "\n",
    "Decimal number: 128 + 16 + 8 + 1 = 153"
   ]
  },
  {
   "cell_type": "markdown",
   "metadata": {},
   "source": [
    "4. Convert 11101100 to a decimal number"
   ]
  },
  {
   "cell_type": "markdown",
   "metadata": {},
   "source": [
    "(using Python coding/syntax to represent exponents and multiplication)\n",
    "\n",
    "(2 ** 7) * 1 = 128,\n",
    "(2 ** 6) * 1 = 64,\n",
    "(2 ** 5) * 1 = 32,\n",
    "(2 ** 4) * 0 = 0,\n",
    "(2 ** 3) * 1 = 8,\n",
    "(2 ** 2) * 1 = 4,\n",
    "(2 ** 1) * 0 = 0,\n",
    "(2 ** 0) * 0 = 0\n",
    "\n",
    "Decimal number: 128 + 64 + 32 + 8 + 4 = 236"
   ]
  },
  {
   "cell_type": "markdown",
   "metadata": {},
   "source": [
    "5. Decode this secret message:\n",
    "01001100 01101111 01100111 01101001 01100011"
   ]
  },
  {
   "cell_type": "markdown",
   "metadata": {},
   "source": [
    "- (using Python coding/syntax to represent exponents and multiplication)\n",
    "\n",
    "01001100: \n",
    "\n",
    "(2 ** 7) * 0 = 0,\n",
    "(2 ** 6) * 1 = 64,\n",
    "(2 ** 5) * 0 = 0,\n",
    "(2 ** 4) * 0 = 0,\n",
    "(2 ** 3) * 1 = 8,\n",
    "(2 ** 2) * 1 = 4,\n",
    "(2 ** 1) * 0 = 0,\n",
    "(2 ** 0) * 0 = 0\n",
    "\n",
    "Decimal number: 64 + 8 + 4 = 76\n",
    "\n",
    "01101111: \n",
    "\n",
    "(2 ** 7) * 0 = 0,\n",
    "(2 ** 6) * 1 = 64,\n",
    "(2 ** 5) * 1 = 32,\n",
    "(2 ** 4) * 0 = 0,\n",
    "(2 ** 3) * 1 = 8,\n",
    "(2 ** 2) * 1 = 4,\n",
    "(2 ** 1) * 1 = 2,\n",
    "(2 ** 0) * 1 = 1\n",
    "\n",
    "Decimal number: 64 + 32 + 8 + 4 + 2 + 1 = 111\n",
    "\n",
    "\n",
    "01100111: \n",
    "\n",
    "(2 ** 7) * 0 = 0,\n",
    "(2 ** 6) * 1 = 64,\n",
    "(2 ** 5) * 1 = 32,\n",
    "(2 ** 4) * 0 = 0,\n",
    "(2 ** 3) * 0 = 0,\n",
    "(2 ** 2) * 1 = 4,\n",
    "(2 ** 1) * 1 = 2,\n",
    "(2 ** 0) * 1 = 1\n",
    "\n",
    "Decimal number: 64 + 32 + 4 + 2 + 1 = 103\n",
    "\n",
    "\n",
    "01101001: \n",
    "\n",
    "(2 ** 7) * 0 = 0,\n",
    "(2 ** 6) * 1 = 64,\n",
    "(2 ** 5) * 1 = 32,\n",
    "(2 ** 4) * 0 = 0,\n",
    "(2 ** 3) * 1 = 8,\n",
    "(2 ** 2) * 0 = 0,\n",
    "(2 ** 1) * 0 = 0,\n",
    "(2 ** 0) * 1 = 1\n",
    "\n",
    "Decimal number: 64 + 32 + 8 + 1 = 105\n",
    "\n",
    "\n",
    "01100011: \n",
    "\n",
    "(2 ** 7) * 0 = 0,\n",
    "(2 ** 6) * 1 = 64,\n",
    "(2 ** 5) * 1 = 32,\n",
    "(2 ** 4) * 0 = 0,\n",
    "(2 ** 3) * 0 = 0,\n",
    "(2 ** 2) * 0 = 0,\n",
    "(2 ** 1) * 2 = 2,\n",
    "(2 ** 0) * 1 = 1\n",
    "\n",
    "Decimal number: 64 + 32 + 2 + 1 = 99\n",
    "\n",
    "\n",
    "- using https://www.asciitable.com/ for converting decimal numbers to ASCII characters\n",
    "\n",
    "76 - L,\n",
    "111 - o,\n",
    "103 - g,\n",
    "105 - i,\n",
    "99 - c\n",
    "\n",
    "The secret message is: Logic"
   ]
  },
  {
   "cell_type": "markdown",
   "metadata": {},
   "source": [
    "6. Identify and explain stages of Programming."
   ]
  },
  {
   "cell_type": "markdown",
   "metadata": {},
   "source": [
    "Analyze: \n",
    "\n",
    "    Definiing the problem(s) that need to be solved\n",
    "\n",
    "Plan: \n",
    "\n",
    "    Planning the solution: \n",
    "\n",
    "        IPO (Input - Process - Output)\n",
    "\n",
    "        Algorithm (pseudocode)\n",
    "\n",
    "Code: \n",
    "\n",
    "    Coding the program: \n",
    "        \n",
    "        Programming language (Python for this course)\n",
    "\n",
    "Test: \n",
    "\n",
    "    Testing the program can involve: \n",
    "\n",
    "        Unit testing \n",
    "        \n",
    "        System testing\n",
    "        \n",
    "        Integration testing\n",
    "\n",
    "Maintenance:\n",
    "\n",
    "    Maintaining the program: \n",
    "            \n",
    "        Debugging\n",
    "        \n",
    "        Enhancement\n",
    "        \n",
    "        Documentation\n",
    "        \n",
    "        "
   ]
  },
  {
   "cell_type": "markdown",
   "metadata": {},
   "source": [
    "7. You need to write a program to compute total sales amount when sales tax is 5%. Identify IPO (input, process, output) for this program."
   ]
  },
  {
   "cell_type": "markdown",
   "metadata": {},
   "source": [
    "Input: \n",
    "\tquantity and cost/price of item(s) sold\n",
    "\n",
    "Process: \n",
    "    compute the sales tax (5%) using total cost/price of item(s) sold\n",
    "\t\n",
    "Output: \n",
    "\ttotal amount with total cost/price of item(s) sold and sales tax"
   ]
  },
  {
   "cell_type": "markdown",
   "metadata": {},
   "source": [
    "8. Identify IPO for converting liters to US gallons."
   ]
  },
  {
   "cell_type": "markdown",
   "metadata": {},
   "source": [
    "Input: \n",
    "\tquantity/amount of item in liters\n",
    "\t\n",
    "Process: \n",
    "\tconvert amount from liters to gallons (1 liter = 0.264172 gallons)\n",
    "\n",
    "Output:\n",
    "\tquantity/amount of item in gallons"
   ]
  },
  {
   "cell_type": "markdown",
   "metadata": {},
   "source": [
    "9. Identify IPO for computing a worker's pay. What information/data do you need?"
   ]
  },
  {
   "cell_type": "markdown",
   "metadata": {},
   "source": [
    "Input: \n",
    "\tis the worker salaried or hourly?\n",
    "\tdid the worker work overtime?\n",
    "\tis the worker paid extra for overtime hours?\n",
    "\n",
    "Process: \n",
    "\tif salaried:\n",
    "\t\tsalary pay + overtime pay (if paid extra for overtime work and worked overtime)...\n",
    "\tif hourly & no overtime worked: hours works * hourly rate of pay...\n",
    "    if hourly & overtime worked: hours works * hourly rate of pay + overtime pay \n",
    "\t\t(overtime hours * overtime rate)\n",
    "\n",
    "Output:\n",
    "\tTotal amount of worker's pay"
   ]
  },
  {
   "cell_type": "code",
   "execution_count": null,
   "metadata": {},
   "outputs": [],
   "source": []
  }
 ],
 "metadata": {
  "kernelspec": {
   "display_name": "Python 3",
   "language": "python",
   "name": "python3"
  },
  "language_info": {
   "codemirror_mode": {
    "name": "ipython",
    "version": 3
   },
   "file_extension": ".py",
   "mimetype": "text/x-python",
   "name": "python",
   "nbconvert_exporter": "python",
   "pygments_lexer": "ipython3",
   "version": "3.8.8"
  }
 },
 "nbformat": 4,
 "nbformat_minor": 4
}
